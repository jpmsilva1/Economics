{
 "cells": [
  {
   "cell_type": "code",
   "execution_count": 59,
   "metadata": {},
   "outputs": [],
   "source": [
    "import pandas as pd\n",
    "import statsmodels.api as sm \n",
    "import matplotlib.pyplot as plt "
   ]
  },
  {
   "cell_type": "markdown",
   "metadata": {},
   "source": [
    "Questão 7 - letra a)\n",
    "Um gráfico com as duas séries temporais. O que você pode dizer sobre o comportamento das\n",
    "duas séries?\n"
   ]
  },
  {
   "cell_type": "code",
   "execution_count": 5,
   "metadata": {},
   "outputs": [
    {
     "data": {
      "text/html": [
       "<div>\n",
       "<style scoped>\n",
       "    .dataframe tbody tr th:only-of-type {\n",
       "        vertical-align: middle;\n",
       "    }\n",
       "\n",
       "    .dataframe tbody tr th {\n",
       "        vertical-align: top;\n",
       "    }\n",
       "\n",
       "    .dataframe thead th {\n",
       "        text-align: right;\n",
       "    }\n",
       "</style>\n",
       "<table border=\"1\" class=\"dataframe\">\n",
       "  <thead>\n",
       "    <tr style=\"text-align: right;\">\n",
       "      <th></th>\n",
       "      <th>Data</th>\n",
       "      <th>PIB - preços de mercado - índice real encadeado dessazonalizado (média 1995 = 100) - - - Instituto Brasileiro de Geografia e Estatística, Sistema de Contas Nacionais Trimestrais (IBGE/SCN Trimestral) - SCN104_PIBPMAS104 -</th>\n",
       "      <th>PIB - consumo final - famílias - índice real encadeado dessazonalizado (média 1995 = 100) - - - Instituto Brasileiro de Geografia e Estatística, Sistema de Contas Nacionais Trimestrais (IBGE/SCN Trimestral) - SCN104_PIBCPPAS104 -</th>\n",
       "    </tr>\n",
       "  </thead>\n",
       "  <tbody>\n",
       "    <tr>\n",
       "      <th>0</th>\n",
       "      <td>1996 T1</td>\n",
       "      <td>99.547352</td>\n",
       "      <td>98.046192</td>\n",
       "    </tr>\n",
       "    <tr>\n",
       "      <th>1</th>\n",
       "      <td>1996 T2</td>\n",
       "      <td>100.437496</td>\n",
       "      <td>100.926132</td>\n",
       "    </tr>\n",
       "    <tr>\n",
       "      <th>2</th>\n",
       "      <td>1996 T3</td>\n",
       "      <td>104.370983</td>\n",
       "      <td>103.682404</td>\n",
       "    </tr>\n",
       "    <tr>\n",
       "      <th>3</th>\n",
       "      <td>1996 T4</td>\n",
       "      <td>103.299776</td>\n",
       "      <td>109.151559</td>\n",
       "    </tr>\n",
       "    <tr>\n",
       "      <th>4</th>\n",
       "      <td>1997 T1</td>\n",
       "      <td>104.314965</td>\n",
       "      <td>106.947170</td>\n",
       "    </tr>\n",
       "    <tr>\n",
       "      <th>...</th>\n",
       "      <td>...</td>\n",
       "      <td>...</td>\n",
       "      <td>...</td>\n",
       "    </tr>\n",
       "    <tr>\n",
       "      <th>100</th>\n",
       "      <td>2021 T1</td>\n",
       "      <td>171.537881</td>\n",
       "      <td>179.152649</td>\n",
       "    </tr>\n",
       "    <tr>\n",
       "      <th>101</th>\n",
       "      <td>2021 T2</td>\n",
       "      <td>171.166438</td>\n",
       "      <td>179.140832</td>\n",
       "    </tr>\n",
       "    <tr>\n",
       "      <th>102</th>\n",
       "      <td>2021 T3</td>\n",
       "      <td>171.275187</td>\n",
       "      <td>180.601254</td>\n",
       "    </tr>\n",
       "    <tr>\n",
       "      <th>103</th>\n",
       "      <td>2021 T4</td>\n",
       "      <td>172.409395</td>\n",
       "      <td>181.893244</td>\n",
       "    </tr>\n",
       "    <tr>\n",
       "      <th>104</th>\n",
       "      <td>2022 T1</td>\n",
       "      <td>174.126727</td>\n",
       "      <td>183.095935</td>\n",
       "    </tr>\n",
       "  </tbody>\n",
       "</table>\n",
       "<p>105 rows × 3 columns</p>\n",
       "</div>"
      ],
      "text/plain": [
       "        Data  \\\n",
       "0    1996 T1   \n",
       "1    1996 T2   \n",
       "2    1996 T3   \n",
       "3    1996 T4   \n",
       "4    1997 T1   \n",
       "..       ...   \n",
       "100  2021 T1   \n",
       "101  2021 T2   \n",
       "102  2021 T3   \n",
       "103  2021 T4   \n",
       "104  2022 T1   \n",
       "\n",
       "     PIB - preços de mercado - índice real encadeado dessazonalizado (média 1995 = 100) - - - Instituto Brasileiro de Geografia e Estatística, Sistema de Contas Nacionais Trimestrais (IBGE/SCN Trimestral) - SCN104_PIBPMAS104 -   \\\n",
       "0                                            99.547352                                                                                                                                                                                \n",
       "1                                           100.437496                                                                                                                                                                                \n",
       "2                                           104.370983                                                                                                                                                                                \n",
       "3                                           103.299776                                                                                                                                                                                \n",
       "4                                           104.314965                                                                                                                                                                                \n",
       "..                                                 ...                                                                                                                                                                                \n",
       "100                                         171.537881                                                                                                                                                                                \n",
       "101                                         171.166438                                                                                                                                                                                \n",
       "102                                         171.275187                                                                                                                                                                                \n",
       "103                                         172.409395                                                                                                                                                                                \n",
       "104                                         174.126727                                                                                                                                                                                \n",
       "\n",
       "     PIB - consumo final - famílias - índice real encadeado dessazonalizado (média 1995 = 100) - - - Instituto Brasileiro de Geografia e Estatística, Sistema de Contas Nacionais Trimestrais (IBGE/SCN Trimestral) - SCN104_PIBCPPAS104 -   \n",
       "0                                            98.046192                                                                                                                                                                                       \n",
       "1                                           100.926132                                                                                                                                                                                       \n",
       "2                                           103.682404                                                                                                                                                                                       \n",
       "3                                           109.151559                                                                                                                                                                                       \n",
       "4                                           106.947170                                                                                                                                                                                       \n",
       "..                                                 ...                                                                                                                                                                                       \n",
       "100                                         179.152649                                                                                                                                                                                       \n",
       "101                                         179.140832                                                                                                                                                                                       \n",
       "102                                         180.601254                                                                                                                                                                                       \n",
       "103                                         181.893244                                                                                                                                                                                       \n",
       "104                                         183.095935                                                                                                                                                                                       \n",
       "\n",
       "[105 rows x 3 columns]"
      ]
     },
     "execution_count": 5,
     "metadata": {},
     "output_type": "execute_result"
    }
   ],
   "source": [
    "#Puxando a base de dados \n",
    "\n",
    "bases = (pd.read_excel(\"/Users/joaopedro/Desktop/ipeadata_series.xls\"))\n",
    "bases"
   ]
  },
  {
   "cell_type": "code",
   "execution_count": 8,
   "metadata": {},
   "outputs": [
    {
     "data": {
      "text/html": [
       "<div>\n",
       "<style scoped>\n",
       "    .dataframe tbody tr th:only-of-type {\n",
       "        vertical-align: middle;\n",
       "    }\n",
       "\n",
       "    .dataframe tbody tr th {\n",
       "        vertical-align: top;\n",
       "    }\n",
       "\n",
       "    .dataframe thead th {\n",
       "        text-align: right;\n",
       "    }\n",
       "</style>\n",
       "<table border=\"1\" class=\"dataframe\">\n",
       "  <thead>\n",
       "    <tr style=\"text-align: right;\">\n",
       "      <th></th>\n",
       "      <th>Data</th>\n",
       "      <th>PIB - preços de mercado</th>\n",
       "      <th>Comsumo final - familias</th>\n",
       "    </tr>\n",
       "  </thead>\n",
       "  <tbody>\n",
       "    <tr>\n",
       "      <th>0</th>\n",
       "      <td>1996 T1</td>\n",
       "      <td>99.547352</td>\n",
       "      <td>98.046192</td>\n",
       "    </tr>\n",
       "    <tr>\n",
       "      <th>1</th>\n",
       "      <td>1996 T2</td>\n",
       "      <td>100.437496</td>\n",
       "      <td>100.926132</td>\n",
       "    </tr>\n",
       "    <tr>\n",
       "      <th>2</th>\n",
       "      <td>1996 T3</td>\n",
       "      <td>104.370983</td>\n",
       "      <td>103.682404</td>\n",
       "    </tr>\n",
       "    <tr>\n",
       "      <th>3</th>\n",
       "      <td>1996 T4</td>\n",
       "      <td>103.299776</td>\n",
       "      <td>109.151559</td>\n",
       "    </tr>\n",
       "    <tr>\n",
       "      <th>4</th>\n",
       "      <td>1997 T1</td>\n",
       "      <td>104.314965</td>\n",
       "      <td>106.947170</td>\n",
       "    </tr>\n",
       "  </tbody>\n",
       "</table>\n",
       "</div>"
      ],
      "text/plain": [
       "      Data  PIB - preços de mercado  Comsumo final - familias\n",
       "0  1996 T1                99.547352                 98.046192\n",
       "1  1996 T2               100.437496                100.926132\n",
       "2  1996 T3               104.370983                103.682404\n",
       "3  1996 T4               103.299776                109.151559\n",
       "4  1997 T1               104.314965                106.947170"
      ]
     },
     "execution_count": 8,
     "metadata": {},
     "output_type": "execute_result"
    }
   ],
   "source": [
    "# Tratando as bases\n",
    "\n",
    "bases.columns= [\"Data\", \"PIB - preços de mercado\", \"Comsumo final - familias\"]\n",
    "\n",
    "bases.head()"
   ]
  },
  {
   "cell_type": "code",
   "execution_count": 9,
   "metadata": {},
   "outputs": [
    {
     "data": {
      "text/html": [
       "<div>\n",
       "<style scoped>\n",
       "    .dataframe tbody tr th:only-of-type {\n",
       "        vertical-align: middle;\n",
       "    }\n",
       "\n",
       "    .dataframe tbody tr th {\n",
       "        vertical-align: top;\n",
       "    }\n",
       "\n",
       "    .dataframe thead th {\n",
       "        text-align: right;\n",
       "    }\n",
       "</style>\n",
       "<table border=\"1\" class=\"dataframe\">\n",
       "  <thead>\n",
       "    <tr style=\"text-align: right;\">\n",
       "      <th></th>\n",
       "      <th>Data</th>\n",
       "      <th>PIB - preços de mercado</th>\n",
       "      <th>Comsumo final - familias</th>\n",
       "    </tr>\n",
       "  </thead>\n",
       "  <tbody>\n",
       "    <tr>\n",
       "      <th>0</th>\n",
       "      <td>1996 T1</td>\n",
       "      <td>99.55</td>\n",
       "      <td>98.05</td>\n",
       "    </tr>\n",
       "    <tr>\n",
       "      <th>1</th>\n",
       "      <td>1996 T2</td>\n",
       "      <td>100.44</td>\n",
       "      <td>100.93</td>\n",
       "    </tr>\n",
       "    <tr>\n",
       "      <th>2</th>\n",
       "      <td>1996 T3</td>\n",
       "      <td>104.37</td>\n",
       "      <td>103.68</td>\n",
       "    </tr>\n",
       "    <tr>\n",
       "      <th>3</th>\n",
       "      <td>1996 T4</td>\n",
       "      <td>103.30</td>\n",
       "      <td>109.15</td>\n",
       "    </tr>\n",
       "    <tr>\n",
       "      <th>4</th>\n",
       "      <td>1997 T1</td>\n",
       "      <td>104.31</td>\n",
       "      <td>106.95</td>\n",
       "    </tr>\n",
       "    <tr>\n",
       "      <th>...</th>\n",
       "      <td>...</td>\n",
       "      <td>...</td>\n",
       "      <td>...</td>\n",
       "    </tr>\n",
       "    <tr>\n",
       "      <th>100</th>\n",
       "      <td>2021 T1</td>\n",
       "      <td>171.54</td>\n",
       "      <td>179.15</td>\n",
       "    </tr>\n",
       "    <tr>\n",
       "      <th>101</th>\n",
       "      <td>2021 T2</td>\n",
       "      <td>171.17</td>\n",
       "      <td>179.14</td>\n",
       "    </tr>\n",
       "    <tr>\n",
       "      <th>102</th>\n",
       "      <td>2021 T3</td>\n",
       "      <td>171.28</td>\n",
       "      <td>180.60</td>\n",
       "    </tr>\n",
       "    <tr>\n",
       "      <th>103</th>\n",
       "      <td>2021 T4</td>\n",
       "      <td>172.41</td>\n",
       "      <td>181.89</td>\n",
       "    </tr>\n",
       "    <tr>\n",
       "      <th>104</th>\n",
       "      <td>2022 T1</td>\n",
       "      <td>174.13</td>\n",
       "      <td>183.10</td>\n",
       "    </tr>\n",
       "  </tbody>\n",
       "</table>\n",
       "<p>105 rows × 3 columns</p>\n",
       "</div>"
      ],
      "text/plain": [
       "        Data  PIB - preços de mercado  Comsumo final - familias\n",
       "0    1996 T1                    99.55                     98.05\n",
       "1    1996 T2                   100.44                    100.93\n",
       "2    1996 T3                   104.37                    103.68\n",
       "3    1996 T4                   103.30                    109.15\n",
       "4    1997 T1                   104.31                    106.95\n",
       "..       ...                      ...                       ...\n",
       "100  2021 T1                   171.54                    179.15\n",
       "101  2021 T2                   171.17                    179.14\n",
       "102  2021 T3                   171.28                    180.60\n",
       "103  2021 T4                   172.41                    181.89\n",
       "104  2022 T1                   174.13                    183.10\n",
       "\n",
       "[105 rows x 3 columns]"
      ]
     },
     "execution_count": 9,
     "metadata": {},
     "output_type": "execute_result"
    }
   ],
   "source": [
    "bases.round(2)"
   ]
  },
  {
   "cell_type": "code",
   "execution_count": 10,
   "metadata": {},
   "outputs": [],
   "source": [
    "# Corrigindo as datas\n",
    "bases[\"Data\"] = pd.DatetimeIndex(bases[\"Data\"])"
   ]
  },
  {
   "cell_type": "code",
   "execution_count": 16,
   "metadata": {},
   "outputs": [
    {
     "data": {
      "image/png": "[encoded data removed]",
      "text/plain": [
       "<Figure size 1000x500 with 1 Axes>"
      ]
     },
     "metadata": {
      "needs_background": "light"
     },
     "output_type": "display_data"
    }
   ],
   "source": [
    "# Plotando os Gráficos \n",
    "\n",
    "plt.figure(figsize=(10,5), dpi=100)\n",
    "plt.plot(bases[\"Data\"], bases[\"Comsumo final - familias\"], label= \"Consumo Fam.\", c= \"g\") \n",
    "plt.plot(bases[\"Data\"], bases[\"PIB - preços de mercado\"], label= \"PIB\", c= \"b\") \n",
    "plt.xlabel(\"Data(Anos)\")\n",
    "plt.ylabel(\"PIB e Consumo\")\n",
    "plt.title(\"Trajetória do PIB e Consumo (Trimestral)\")\n",
    "plt.grid()\n",
    "plt.plot()\n",
    "plt.show()"
   ]
  },
  {
   "cell_type": "markdown",
   "metadata": {},
   "source": [
    "O PIB e o consumo possuem uma trajetória parecida ao longo da série."
   ]
  },
  {
   "cell_type": "markdown",
   "metadata": {},
   "source": [
    "b) Aplicando o filtro Hodrick-Prescott"
   ]
  },
  {
   "cell_type": "code",
   "execution_count": 50,
   "metadata": {},
   "outputs": [],
   "source": [
    "# Aplicando o filtro HP para o PIB e Consumo\n",
    "\n",
    "bases[\"PIB (Ciclico)\"], bases[\"PIB (tendência)\"] = sm.tsa.filters.hpfilter(bases[\"PIB - preços de mercado\"])\n",
    "bases[\"Consumo (Ciclico)\"], bases[\"Consumo (Tendência)\"] = sm.tsa.filters.hpfilter(bases[\"Comsumo final - familias\"])\n"
   ]
  },
  {
   "cell_type": "code",
   "execution_count": 51,
   "metadata": {},
   "outputs": [
    {
     "data": {
      "text/html": [
       "<div>\n",
       "<style scoped>\n",
       "    .dataframe tbody tr th:only-of-type {\n",
       "        vertical-align: middle;\n",
       "    }\n",
       "\n",
       "    .dataframe tbody tr th {\n",
       "        vertical-align: top;\n",
       "    }\n",
       "\n",
       "    .dataframe thead th {\n",
       "        text-align: right;\n",
       "    }\n",
       "</style>\n",
       "<table border=\"1\" class=\"dataframe\">\n",
       "  <thead>\n",
       "    <tr style=\"text-align: right;\">\n",
       "      <th></th>\n",
       "      <th>Data</th>\n",
       "      <th>PIB - preços de mercado</th>\n",
       "      <th>Comsumo final - familias</th>\n",
       "      <th>PIB - Ciclico</th>\n",
       "      <th>PIB - tendência</th>\n",
       "      <th>PIB (Ciclico)</th>\n",
       "      <th>PIB (tendência)</th>\n",
       "      <th>Consumo (Ciclico)</th>\n",
       "      <th>Consumo (Tendência)</th>\n",
       "    </tr>\n",
       "  </thead>\n",
       "  <tbody>\n",
       "    <tr>\n",
       "      <th>0</th>\n",
       "      <td>1996-01-01</td>\n",
       "      <td>99.547352</td>\n",
       "      <td>98.046192</td>\n",
       "      <td>-1.901785</td>\n",
       "      <td>101.449136</td>\n",
       "      <td>-1.901785</td>\n",
       "      <td>101.449136</td>\n",
       "      <td>-4.825601</td>\n",
       "      <td>102.871793</td>\n",
       "    </tr>\n",
       "    <tr>\n",
       "      <th>1</th>\n",
       "      <td>1996-02-01</td>\n",
       "      <td>100.437496</td>\n",
       "      <td>100.926132</td>\n",
       "      <td>-1.505006</td>\n",
       "      <td>101.942501</td>\n",
       "      <td>-1.505006</td>\n",
       "      <td>101.942501</td>\n",
       "      <td>-2.314729</td>\n",
       "      <td>103.240861</td>\n",
       "    </tr>\n",
       "    <tr>\n",
       "      <th>2</th>\n",
       "      <td>1996-03-01</td>\n",
       "      <td>104.370983</td>\n",
       "      <td>103.682404</td>\n",
       "      <td>1.936305</td>\n",
       "      <td>102.434678</td>\n",
       "      <td>1.936305</td>\n",
       "      <td>102.434678</td>\n",
       "      <td>0.075490</td>\n",
       "      <td>103.606914</td>\n",
       "    </tr>\n",
       "    <tr>\n",
       "      <th>3</th>\n",
       "      <td>1996-04-01</td>\n",
       "      <td>103.299776</td>\n",
       "      <td>109.151559</td>\n",
       "      <td>0.376239</td>\n",
       "      <td>102.923537</td>\n",
       "      <td>0.376239</td>\n",
       "      <td>102.923537</td>\n",
       "      <td>5.186071</td>\n",
       "      <td>103.965488</td>\n",
       "    </tr>\n",
       "    <tr>\n",
       "      <th>4</th>\n",
       "      <td>1997-01-01</td>\n",
       "      <td>104.314965</td>\n",
       "      <td>106.947170</td>\n",
       "      <td>0.906806</td>\n",
       "      <td>103.408159</td>\n",
       "      <td>0.906806</td>\n",
       "      <td>103.408159</td>\n",
       "      <td>2.635003</td>\n",
       "      <td>104.312167</td>\n",
       "    </tr>\n",
       "  </tbody>\n",
       "</table>\n",
       "</div>"
      ],
      "text/plain": [
       "        Data  PIB - preços de mercado  Comsumo final - familias  \\\n",
       "0 1996-01-01                99.547352                 98.046192   \n",
       "1 1996-02-01               100.437496                100.926132   \n",
       "2 1996-03-01               104.370983                103.682404   \n",
       "3 1996-04-01               103.299776                109.151559   \n",
       "4 1997-01-01               104.314965                106.947170   \n",
       "\n",
       "   PIB - Ciclico  PIB - tendência  PIB (Ciclico)  PIB (tendência)  \\\n",
       "0      -1.901785       101.449136      -1.901785       101.449136   \n",
       "1      -1.505006       101.942501      -1.505006       101.942501   \n",
       "2       1.936305       102.434678       1.936305       102.434678   \n",
       "3       0.376239       102.923537       0.376239       102.923537   \n",
       "4       0.906806       103.408159       0.906806       103.408159   \n",
       "\n",
       "   Consumo (Ciclico)  Consumo (Tendência)  \n",
       "0          -4.825601           102.871793  \n",
       "1          -2.314729           103.240861  \n",
       "2           0.075490           103.606914  \n",
       "3           5.186071           103.965488  \n",
       "4           2.635003           104.312167  "
      ]
     },
     "execution_count": 51,
     "metadata": {},
     "output_type": "execute_result"
    }
   ],
   "source": [
    "bases.head()"
   ]
  },
  {
   "cell_type": "code",
   "execution_count": 52,
   "metadata": {},
   "outputs": [
    {
     "data": {
      "text/plain": [
       "PIB - preços de mercado     26.246285\n",
       "Comsumo final - familias    31.061290\n",
       "PIB - Ciclico                2.963045\n",
       "PIB - tendência             25.940531\n",
       "PIB (Ciclico)                2.963045\n",
       "PIB (tendência)             25.940531\n",
       "Consumo (Ciclico)            3.348211\n",
       "Consumo (Tendência)         30.705159\n",
       "dtype: float64"
      ]
     },
     "execution_count": 52,
     "metadata": {},
     "output_type": "execute_result"
    }
   ],
   "source": [
    "# Desvio padrão da série\n",
    "bases.std()"
   ]
  },
  {
   "cell_type": "code",
   "execution_count": 58,
   "metadata": {},
   "outputs": [
    {
     "data": {
      "image/png": "[encoded data removed]",
      "text/plain": [
       "<Figure size 800x400 with 1 Axes>"
      ]
     },
     "metadata": {
      "needs_background": "light"
     },
     "output_type": "display_data"
    }
   ],
   "source": [
    "#Plotando volatilidade de PIB e Consumo\n",
    "plt.figure(figsize=(8, 4), dpi=100)\n",
    "plt.title('Volatilidade do PIB e Consumo')\n",
    "plt.grid()\n",
    "plt.plot(bases[\"Data\"],bases[\"PIB (Ciclico)\"], label=\"PIB\", c=\"g\")\n",
    "plt.plot(bases[\"Data\"],bases[\"Consumo (Ciclico)\"], label=\"Consumo\", c=\"blue\")\n",
    "plt.axhline(y=0, color=\"grey\")\n",
    "plt.legend()\n",
    "plt.show()"
   ]
  },
  {
   "cell_type": "markdown",
   "metadata": {},
   "source": [
    "O consumo possui uma volatilidade maior que o PIB."
   ]
  }
 ],
 "metadata": {
  "kernelspec": {
   "display_name": "Python 3.7.6 ('base')",
   "language": "python",
   "name": "python3"
  },
  "language_info": {
   "codemirror_mode": {
    "name": "ipython",
    "version": 3
   },
   "file_extension": ".py",
   "mimetype": "text/x-python",
   "name": "python",
   "nbconvert_exporter": "python",
   "pygments_lexer": "ipython3",
   "version": "3.7.6"
  },
  "orig_nbformat": 4,
  "vscode": {
   "interpreter": {
    "hash": "55304cf97178c4c78785191d77eb80821e66fa6ecd7c3831b69c7adbeb3515fc"
   }
  }
 },
 "nbformat": 4,
 "nbformat_minor": 2
}
